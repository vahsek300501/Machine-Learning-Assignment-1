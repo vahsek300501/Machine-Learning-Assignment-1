{
 "cells": [
  {
   "cell_type": "code",
   "execution_count": 18,
   "source": [
    "import os\r\n",
    "import numpy as np\r\n",
    "import pandas as pd\r\n",
    "import sklearn.neighbors\r\n",
    "import sklearn.tree\r\n",
    "from sklearn.metrics import *\r\n",
    "import sklearn.metrics as metrics\r\n",
    "from sklearn.model_selection import train_test_split\r\n",
    "import math\r\n",
    "import matplotlib.pyplot as plt\r\n",
    "\r\n",
    "os.chdir(\"C:\\\\Users\\\\Keshav Gambhir\\\\Desktop\\\\fashion-mnist\\\\utils\")\r\n",
    "print(os.getcwd())\r\n",
    "import mnist_reader"
   ],
   "outputs": [
    {
     "output_type": "stream",
     "name": "stdout",
     "text": [
      "C:\\Users\\Keshav Gambhir\\Desktop\\fashion-mnist\\utils\n"
     ]
    }
   ],
   "metadata": {}
  },
  {
   "cell_type": "code",
   "execution_count": 19,
   "source": [
    "class NaiveBayes:\r\n",
    "  def __init__(self,x_train,y_train):\r\n",
    "    self.x_train = x_train\r\n",
    "    self.y_train = y_train\r\n",
    "\r\n",
    "  def seperate_entites(self):\r\n",
    "    self.index_of_1 = []\r\n",
    "    self.index_of_2 = []\r\n",
    "    i = 0\r\n",
    "    while(i<len(self.y_train)):\r\n",
    "      if(self.y_train[i] == 1):\r\n",
    "        self.index_of_1.append(i)\r\n",
    "      if(self.y_train[i] == 2):\r\n",
    "        self.index_of_2.append(i)\r\n",
    "      i+=1\r\n",
    "\r\n",
    "  def mean_variance(self):\r\n",
    "    self.mean_of_1 = np.mean((self.x_train[self.index_of_1]),axis = 0)\r\n",
    "    self.mean_of_2 = np.mean((self.x_train[self.index_of_2]),axis = 0)\r\n",
    "    self.variance_of_1 = np.var((self.x_train[self.index_of_1]),axis = 0) + (1e-6)\r\n",
    "    self.variance_of_2 = np.var((self.x_train[self.index_of_2]),axis = 0) + (1e-6)\r\n",
    "  \r\n",
    "  def gaussian_function_one(self,input):\r\n",
    "    exp_term = ((input-self.mean_of_1)**2/(2*self.variance_of_1))\r\n",
    "    prob = (1/(2*math.pi*self.variance_of_1)**0.5) * np.exp(-exp_term)\r\n",
    "    return np.sum(np.log(prob+1e-6))\r\n",
    "  \r\n",
    "  def gaussian_function_two(self,input):\r\n",
    "    exp_term = ((input-self.mean_of_2)**2/(2*self.variance_of_2))\r\n",
    "    prob = (1/(2*math.pi*self.variance_of_2)**0.5) * np.exp(-exp_term)\r\n",
    "    return np.sum(np.log(prob+1e-6))\r\n",
    "  \r\n",
    "  def predict(self,x_test):\r\n",
    "    output = []\r\n",
    "    for val in x_test:\r\n",
    "      prob_trouser = self.gaussian_function_one(val)\r\n",
    "      prob_pullover = self.gaussian_function_two(val)\r\n",
    "\r\n",
    "      if(prob_trouser > prob_pullover):\r\n",
    "        output.append(1)\r\n",
    "      else:\r\n",
    "        output.append(2)\r\n",
    "    return output\r\n"
   ],
   "outputs": [],
   "metadata": {}
  },
  {
   "cell_type": "code",
   "execution_count": 23,
   "source": [
    "def evaluate(y_test_actual,y_test_predicted):\r\n",
    "  print(\"CONFUSION MATRIX:\")\r\n",
    "  print()\r\n",
    "  print(metrics.confusion_matrix(y_test_actual,y_test_predicted))\r\n",
    "  print()\r\n",
    "  print()\r\n",
    "  print()\r\n",
    "  fpr, tpr, threshold = metrics.roc_curve(y_test_actual, y_test_predicted,pos_label=2)\r\n",
    "  roc_auc = metrics.auc(fpr, tpr)\r\n",
    "  plt.plot(fpr, tpr, 'b', label = 'AUC = %0.2f' % roc_auc)\r\n",
    "  plt.legend(loc = 'lower right')\r\n",
    "  plt.plot([0, 1], [0, 1],'r--')\r\n",
    "  plt.xlim([0, 1])\r\n",
    "  plt.ylim([0, 1])\r\n",
    "  plt.ylabel('True Positive Rate')\r\n",
    "  plt.xlabel('False Positive Rate')\r\n",
    "  plt.show()\r\n",
    "  print()\r\n",
    "  print()\r\n",
    "  accuracy = metrics.accuracy_score(y_test_actual,y_test_predicted)\r\n",
    "  precision = metrics.precision_score(y_test_actual,y_test_predicted)\r\n",
    "  recall = metrics.recall_score(y_test_actual,y_test_predicted)\r\n",
    "  print(\"Accuracy: \"+str(accuracy))\r\n",
    "  print(\"Precision: \"+str(precision))\r\n",
    "  print(\"Recall: \"+str(recall))"
   ],
   "outputs": [],
   "metadata": {}
  },
  {
   "cell_type": "code",
   "execution_count": 24,
   "source": [
    "def readDataset():\r\n",
    "  x_train, y_train = mnist_reader.load_mnist('../data/fashion', kind='train')\r\n",
    "  x_test, y_test = mnist_reader.load_mnist('../data/fashion', kind='t10k')\r\n",
    "  return x_train,y_train ,x_test,y_test\r\n",
    "\r\n",
    "def transformData():\r\n",
    "  x_train,y_train,x_test,y_test = readDataset()\r\n",
    "  train_data_index = []\r\n",
    "  test_data_index = []\r\n",
    "  \r\n",
    "  i = 0\r\n",
    "  while(i < len(y_train)):\r\n",
    "    if(y_train[i] == 1) or (y_train[i] == 2):\r\n",
    "      train_data_index.append(i)\r\n",
    "    i += 1\r\n",
    "  \r\n",
    "  j = 0\r\n",
    "  while(j < len(y_test)):\r\n",
    "    if (y_test[j] == 1) or (y_test[j] == 2):\r\n",
    "      test_data_index.append(j)\r\n",
    "    j += 1\r\n",
    "  \r\n",
    "  x_train,y_train = x_train[train_data_index],y_train[train_data_index]\r\n",
    "  x_test,y_test = x_test[test_data_index],y_test[test_data_index]\r\n",
    "  \r\n",
    "  x_train = np.array(list(map(lambda x: x/255,x_train)))\r\n",
    "  x_test = np.array(list(map(lambda x: x/255,x_test)))\r\n",
    "  x_train = np.squeeze(x_train)\r\n",
    "  x_train_tmp,x_test_tmp,y_train_tmp,y_test_tmp = train_test_split(x_train,y_train,test_size = 0.20, random_state = 0)\r\n",
    "  \r\n",
    "\r\n",
    "  return x_train_tmp,y_train_tmp,x_test_tmp,y_test_tmp,x_test,y_test\r\n",
    "\r\n",
    "def main():\r\n",
    "  x_train_tmp,y_train_tmp,x_test_tmp,y_test_tmp,x_test,y_test = transformData()\r\n",
    "  NB = NaiveBayes(x_train_tmp,y_train_tmp)\r\n",
    "  NB.seperate_entites()\r\n",
    "  NB.mean_variance()\r\n",
    "  output = NB.predict(x_test)\r\n",
    "  evaluate(y_test,output)\r\n",
    "\r\n",
    "main()"
   ],
   "outputs": [
    {
     "output_type": "stream",
     "name": "stdout",
     "text": [
      "CONFUSION MATRIX:\n",
      "\n",
      "[[966  34]\n",
      " [ 48 952]]\n",
      "\n",
      "\n",
      "\n"
     ]
    },
    {
     "output_type": "display_data",
     "data": {
      "image/png": "[encoded data removed]",
      "text/plain": [
       "<Figure size 432x288 with 1 Axes>"
      ]
     },
     "metadata": {
      "needs_background": "light"
     }
    },
    {
     "output_type": "stream",
     "name": "stdout",
     "text": [
      "\n",
      "\n",
      "Accuracy: 0.959\n",
      "Precision: 0.9526627218934911\n",
      "Recall: 0.966\n"
     ]
    }
   ],
   "metadata": {}
  },
  {
   "cell_type": "code",
   "execution_count": null,
   "source": [],
   "outputs": [],
   "metadata": {}
  }
 ],
 "metadata": {
  "orig_nbformat": 4,
  "language_info": {
   "name": "python",
   "version": "3.8.0",
   "mimetype": "text/x-python",
   "codemirror_mode": {
    "name": "ipython",
    "version": 3
   },
   "pygments_lexer": "ipython3",
   "nbconvert_exporter": "python",
   "file_extension": ".py"
  },
  "kernelspec": {
   "name": "python3",
   "display_name": "Python 3.8.0 32-bit"
  },
  "interpreter": {
   "hash": "76a9ee3ff923be80402bdf68c6fcd4fea84cfa6c9ce1bdee49f03ce2e10dc4ab"
  }
 },
 "nbformat": 4,
 "nbformat_minor": 2
}