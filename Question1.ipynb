{
 "cells": [
  {
   "cell_type": "code",
   "execution_count": 54,
   "source": [
    "import numpy as np\r\n",
    "import pandas as pd\r\n",
    "import random\r\n",
    "import matplotlib.pyplot as plt\r\n",
    "import warnings\r\n",
    "from sklearn import model_selection\r\n",
    "from sklearn.linear_model import LinearRegression\r\n",
    "from sklearn.linear_model import Ridge\r\n",
    "from sklearn.linear_model import Lasso\r\n",
    "from sklearn.linear_model import ElasticNet\r\n",
    "from sklearn.neighbors import KNeighborsRegressor\r\n",
    "from sklearn.tree import DecisionTreeRegressor\r\n",
    "from sklearn.svm import SVR\r\n",
    "from sklearn.ensemble import RandomForestRegressor\r\n",
    "from sklearn.metrics import r2_score\r\n",
    "from sklearn.model_selection import train_test_split\r\n",
    "from sklearn.metrics import mean_squared_error\r\n",
    "from math import sqrt\r\n",
    "from csv import reader as rdr\r\n",
    "from sklearn.model_selection import GridSearchCV"
   ],
   "outputs": [],
   "metadata": {}
  },
  {
   "cell_type": "markdown",
   "source": [
    "Data Preprocessing Step:\r\n",
    "In the data preprocessing:\r\n",
    "  1. we read the data from the file abalone.data\r\n",
    "  2. Replace all males by 0 and all females by 1 and others by 2\r\n",
    "  3. Make a split using np.split which is a 8:1 split"
   ],
   "metadata": {}
  },
  {
   "cell_type": "code",
   "execution_count": 55,
   "source": [
    "def read_dataset_with_random_splitting(filename):\r\n",
    "  data = []\r\n",
    "  with open(filename,'r') as f:\r\n",
    "    tmpData = rdr(f)\r\n",
    "    for val in tmpData:\r\n",
    "      data.append(val)\r\n",
    "  \r\n",
    "  for val in data:\r\n",
    "    if(val[0] == 'M'):\r\n",
    "      val[0] = 0\r\n",
    "    elif(val[0] == 'F'):\r\n",
    "      val[0] = 1\r\n",
    "    else:\r\n",
    "      val[0] = 2\r\n",
    "  \r\n",
    "  for val in data:\r\n",
    "    i = 0\r\n",
    "    while(i < len(val)):\r\n",
    "      val[i] = float(val[i])\r\n",
    "      i+=1\r\n",
    "  \r\n",
    "  dataset_array = np.array(data)\r\n",
    "  df = pd.DataFrame(dataset_array)\r\n",
    "  df = df.iloc[np.random.RandomState(seed=0).permutation(len(df))]\r\n",
    "\r\n",
    "  return df.iloc[:,:8], df.iloc[:,8:]\r\n"
   ],
   "outputs": [],
   "metadata": {}
  },
  {
   "cell_type": "code",
   "execution_count": 56,
   "source": [
    "def read_dataset(filename):\r\n",
    "  data = []\r\n",
    "  with open(filename,'r') as f:\r\n",
    "    tmpData = rdr(f)\r\n",
    "    for val in tmpData:\r\n",
    "      data.append(val)\r\n",
    "  \r\n",
    "  for val in data:\r\n",
    "    if(val[0] == 'M'):\r\n",
    "      val[0] = 1\r\n",
    "    elif(val[0] == 'F'):\r\n",
    "      val[0] = 0\r\n",
    "    else:\r\n",
    "      val[0] = 2\r\n",
    "  \r\n",
    "  for val in data:\r\n",
    "    i = 0\r\n",
    "    while(i < len(val)):\r\n",
    "      val[i] = float(val[i])\r\n",
    "      i+=1\r\n",
    "  \r\n",
    "  dataset_array = np.array(data)\r\n",
    "  train,test = np.split(dataset_array,[int(0.8*len(data))])\r\n",
    "  return train[:,:-1], train[:,-1:],test[:,:-1],test[:,-1:]"
   ],
   "outputs": [],
   "metadata": {}
  },
  {
   "cell_type": "markdown",
   "source": [
    "The below is the code for implementation of Linear Regression\r\n",
    "  1. lossFunction: Calculates the loss\r\n",
    "  2. decreaseRate: Calculate the value of dw and db\r\n",
    "  3. gradientDecent: perform gradient decent \r\n",
    "  4. linear: function calling all the above function and computing the matrix and bias values\r\n",
    "  5. predict: Computes the values on unseen data"
   ],
   "metadata": {}
  },
  {
   "cell_type": "code",
   "execution_count": 57,
   "source": [
    "class MyLinearRegression:\r\n",
    "  def __init__(self,x_train,y_train,learning_rate,iterations):\r\n",
    "    self.x_train = x_train\r\n",
    "    self.y_train = y_train\r\n",
    "    self.sampleSize = self.x_train.shape[0]\r\n",
    "    self.sampleFeatures = self.x_train.shape[1]\r\n",
    "    self.weight_matrix = np.zeros(self.sampleFeatures)\r\n",
    "    self.bias_val = 0\r\n",
    "    self.learning_rate = learning_rate\r\n",
    "    self.iterations = iterations\r\n",
    "    self.loss = 0\r\n",
    "  \r\n",
    "  def lossFunction(self):\r\n",
    "    # Calculating loss\r\n",
    "    equation_val = np.dot(self.x_train,self.weight_matrix) + self.bias_val\r\n",
    "    self.loss = equation_val - self.y_train.T\r\n",
    "    self.loss = np.reshape(self.loss,self.sampleSize)\r\n",
    "  \r\n",
    "  def decreaseRate(self):\r\n",
    "    # calculating dw and db\r\n",
    "    return ((1/self.sampleSize)*np.dot(self.x_train.T,self.loss)),((1/self.sampleSize)*sum(self.loss))\r\n",
    "  \r\n",
    "  def gradientDecent(self,dw,db):\r\n",
    "    # calculating gradient decent\r\n",
    "    self.weight_matrix = self.weight_matrix - (self.learning_rate*dw)\r\n",
    "    self.bias_val = self.bias_val - (self.learning_rate*db)\r\n",
    "\r\n",
    "  def linear(self):\r\n",
    "    # linear regression\r\n",
    "    i = 0\r\n",
    "    while(i < self.iterations):\r\n",
    "      self.lossFunction()\r\n",
    "      dw,db = self.decreaseRate()\r\n",
    "      self.gradientDecent(dw,db)\r\n",
    "      i+=1\r\n",
    "  \r\n",
    "  def predict(self,x_test):\r\n",
    "    return np.dot(x_test,self.weight_matrix) + self.bias_val"
   ],
   "outputs": [],
   "metadata": {}
  },
  {
   "cell_type": "markdown",
   "source": [
    "Function to compute RMSE of the values that are predicted"
   ],
   "metadata": {}
  },
  {
   "cell_type": "code",
   "execution_count": 58,
   "source": [
    "def compute_rmse(actual_y,predicted_y):\r\n",
    "  return np.sqrt(np.sum(np.square(np.array(predicted_y)- np.array(actual_y))))/len(predicted_y)"
   ],
   "outputs": [],
   "metadata": {}
  },
  {
   "cell_type": "markdown",
   "source": [
    "Computing linear regression from the function made:\r\n",
    "  1. Learning rate: 0.01\r\n",
    "  2. iterations: 10000"
   ],
   "metadata": {}
  },
  {
   "cell_type": "code",
   "execution_count": 59,
   "source": [
    "x_train,y_train,x_test,y_test = read_dataset(\"C:\\\\Users\\\\Keshav Gambhir\\\\Desktop\\\\Assignment-1\\\\Datasets\\\\abalone.data\")\r\n",
    "myLinearReg = MyLinearRegression(x_train,y_train,0.01,10000)\r\n",
    "myLinearReg.linear()\r\n",
    "test_predict = myLinearReg.predict(x_test)\r\n",
    "print(compute_rmse(y_test,test_predict))"
   ],
   "outputs": [
    {
     "output_type": "stream",
     "name": "stdout",
     "text": [
      "3.3215060536302814\n"
     ]
    }
   ],
   "metadata": {}
  },
  {
   "cell_type": "code",
   "execution_count": 60,
   "source": [
    "def plot_graph(x_vals,y_vals,regressionType):\r\n",
    "  plt.plot(x_vals,y_vals)\r\n",
    "  plt.xlabel(\"learning rates\")\r\n",
    "  plt.ylabel(\"RMSE\")\r\n",
    "  plt.title(regressionType)\r\n",
    "  plt.show()"
   ],
   "outputs": [],
   "metadata": {}
  },
  {
   "cell_type": "markdown",
   "source": [
    "Plot between Lasso Regressions RMSE and learning rates"
   ],
   "metadata": {}
  },
  {
   "cell_type": "code",
   "execution_count": 61,
   "source": [
    "x_train,y_train,x_test,y_test = read_dataset(\"C:\\\\Users\\\\Keshav Gambhir\\\\Desktop\\\\Assignment-1\\\\Datasets\\\\abalone.data\")\r\n",
    "learning_rates = [8,7,5,2,1.5,1.2, 1, 0.5,0.8,0.05,0.01,0.005,0.001,0.0001]\r\n",
    "i = 0\r\n",
    "predicted_values_list = []\r\n",
    "while(i < len(learning_rates)):\r\n",
    "  lassoRegression = Lasso(learning_rates[i])\r\n",
    "  lassoRegression.fit(x_train,y_train)\r\n",
    "  predicted_values_list.append(compute_rmse(y_test,lassoRegression.predict(x_test)))\r\n",
    "  i+=1\r\n",
    "\r\n",
    "plot_graph(learning_rates,predicted_values_list,\"Lasso Regression\")\r\n",
    "print(\"BEST VALUE FOR ALPHA IS:  \"+str(learning_rates[predicted_values_list.index(min(predicted_values_list))]))"
   ],
   "outputs": [
    {
     "output_type": "display_data",
     "data": {
      "image/png": "[encoded data removed]",
      "text/plain": [
       "<Figure size 432x288 with 1 Axes>"
      ]
     },
     "metadata": {
      "needs_background": "light"
     }
    },
    {
     "output_type": "stream",
     "name": "stdout",
     "text": [
      "BEST VALUE FOR ALPHA IS:  1\n"
     ]
    }
   ],
   "metadata": {}
  },
  {
   "cell_type": "markdown",
   "source": [
    "Plot between Ridge Regressions RMSE and learning rates"
   ],
   "metadata": {}
  },
  {
   "cell_type": "code",
   "execution_count": 51,
   "source": [
    "x_train,y_train,x_test,y_test = read_dataset(\"C:\\\\Users\\\\Keshav Gambhir\\\\Desktop\\\\Assignment-1\\\\Datasets\\\\abalone.data\")\r\n",
    "learning_rates = [8,7,5,2,1.5,1.2, 1, 0.5,0.8,0.05,0.01,0.005,0.001,0.0001]\r\n",
    "i = 0\r\n",
    "predicted_values_list = []\r\n",
    "while(i < len(learning_rates)):\r\n",
    "  ridgeRegression = Ridge(alpha= learning_rates[i])\r\n",
    "  ridgeRegression.fit(x_train,y_train)\r\n",
    "  predicted_values_list.append(compute_rmse(y_test,ridgeRegression.predict(x_test)))\r\n",
    "  i += 1\r\n",
    "\r\n",
    "plot_graph(learning_rates,predicted_values_list,\"Ridge Regression\")\r\n",
    "print(\"BEST VALUE FOR ALPHA IS:  \"+str(learning_rates[predicted_values_list.index(min(predicted_values_list))]))"
   ],
   "outputs": [
    {
     "output_type": "display_data",
     "data": {
      "image/png": "[encoded data removed]",
      "text/plain": [
       "<Figure size 432x288 with 1 Axes>"
      ]
     },
     "metadata": {
      "needs_background": "light"
     }
    },
    {
     "output_type": "stream",
     "name": "stdout",
     "text": [
      "BEST VALUE FOR ALPHA IS:  0.5\n"
     ]
    }
   ],
   "metadata": {}
  },
  {
   "cell_type": "markdown",
   "source": [
    "Use of GridSearch function from Sklearn to find the best value of alpha"
   ],
   "metadata": {}
  },
  {
   "cell_type": "code",
   "execution_count": 52,
   "source": [
    "x_train,y_train = read_dataset_with_random_splitting(\"C:\\\\Users\\\\Keshav Gambhir\\\\Desktop\\\\Assignment-1\\\\Datasets\\\\abalone.data\")\r\n",
    "learning_rates ={'alpha': [8,7,5,2,1.7,1.2, 1, 0.5,0.8,0.05,0.01,0.015,0.021,0.0001,0.0023]}\r\n",
    "lassoRegression2 = Lasso()\r\n",
    "regression = GridSearchCV(lassoRegression2,learning_rates,scoring=\"neg_root_mean_squared_error\", cv = 6)\r\n",
    "regression.fit(x_train,y_train)\r\n",
    "best_alpha_val = regression.best_params_\r\n",
    "print(best_alpha_val)"
   ],
   "outputs": [
    {
     "output_type": "stream",
     "name": "stdout",
     "text": [
      "{'alpha': 0.0023}\n"
     ]
    }
   ],
   "metadata": {}
  },
  {
   "cell_type": "markdown",
   "source": [
    "Use of GridSearch function from Sklearn to find the best value of alpha for Ridge Regression"
   ],
   "metadata": {}
  },
  {
   "cell_type": "code",
   "execution_count": 53,
   "source": [
    "x_train,y_train = read_dataset_with_random_splitting(\"C:\\\\Users\\\\Keshav Gambhir\\\\Desktop\\\\Assignment-1\\\\Datasets\\\\abalone.data\")\r\n",
    "learning_rates ={'alpha': [8,7,5,2,1.7,1.2, 1, 0.5,0.8,0.05,0.01,0.015,0.021,0.0001,0.0023]}\r\n",
    "ridgeRegression2 = Ridge()\r\n",
    "regression = GridSearchCV(ridgeRegression2,learning_rates,scoring=\"neg_root_mean_squared_error\", cv = 6)\r\n",
    "regression.fit(x_train,y_train)\r\n",
    "best_alpha_val = regression.best_params_\r\n",
    "print(best_alpha_val)"
   ],
   "outputs": [
    {
     "output_type": "stream",
     "name": "stdout",
     "text": [
      "{'alpha': 0.8}\n"
     ]
    }
   ],
   "metadata": {}
  }
 ],
 "metadata": {
  "orig_nbformat": 4,
  "language_info": {
   "name": "python",
   "version": "3.8.0",
   "mimetype": "text/x-python",
   "codemirror_mode": {
    "name": "ipython",
    "version": 3
   },
   "pygments_lexer": "ipython3",
   "nbconvert_exporter": "python",
   "file_extension": ".py"
  },
  "kernelspec": {
   "name": "python3",
   "display_name": "Python 3.8.0 32-bit"
  },
  "interpreter": {
   "hash": "76a9ee3ff923be80402bdf68c6fcd4fea84cfa6c9ce1bdee49f03ce2e10dc4ab"
  }
 },
 "nbformat": 4,
 "nbformat_minor": 2
}